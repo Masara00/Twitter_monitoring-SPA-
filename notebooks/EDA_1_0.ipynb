{
 "cells": [
  {
   "cell_type": "markdown",
   "metadata": {},
   "source": [
    "<p>3. Realizar un pequeño análisis donde se respondan a las siguientes preguntas de\n",
    "negocio:</p>\n",
    "<p>a. ¿Cuál es el tweet con mayor repercusión social?</p>\n",
    "<p>b. ¿Cuál es el usuario que más menciona a la escuela?</p>\n",
    "<p>c. ¿En qué mes se concentra el mayor número de tweets?</p>\n",
    "<p>d. ¿Qué palabras son más frecuentes?</p>\n",
    "<p>e. ¿Qué tipo de correlación matemática encuentras entre las métricas públicas?</p>\n",
    "<p>f. ¿Has sacado alguna conclusión extra en tu análisis?</p>"
   ]
  },
  {
   "cell_type": "code",
   "execution_count": 1,
   "metadata": {},
   "outputs": [],
   "source": [
    "import sqlite3\n",
    "import pandas as pd\n",
    "pd.set_option('display.max_colwidth', None)\n",
    "\n",
    "import seaborn as sns\n",
    "import matplotlib.pyplot as plt"
   ]
  },
  {
   "cell_type": "code",
   "execution_count": 2,
   "metadata": {},
   "outputs": [],
   "source": [
    "DB='../data/DB_twitter.db'\n",
    "\n",
    "sql = sqlite3.connect(DB)\n",
    "\n",
    "query= '''Select t.*, u.name, u.username FROM tweets t JOIN users u ON t.user_id = u.user_id'''\n",
    "# query= '''Select t.* FROM tweets t'''\n",
    "\n",
    "df = pd.read_sql(query,sql,index_col=['id'])\n",
    "\n",
    "sql.close()"
   ]
  },
  {
   "cell_type": "code",
   "execution_count": 27,
   "metadata": {},
   "outputs": [
    {
     "data": {
      "text/plain": [
       "(166, 13)"
      ]
     },
     "execution_count": 27,
     "metadata": {},
     "output_type": "execute_result"
    }
   ],
   "source": [
    "df.shape"
   ]
  },
  {
   "cell_type": "markdown",
   "metadata": {},
   "source": [
    "-----\n",
    "-----\n",
    "------\n",
    "<p>a. ¿Cuál es el tweet con mayor repercusión social?</p>"
   ]
  },
  {
   "cell_type": "code",
   "execution_count": 4,
   "metadata": {},
   "outputs": [
    {
     "data": {
      "text/html": [
       "<div>\n",
       "<style scoped>\n",
       "    .dataframe tbody tr th:only-of-type {\n",
       "        vertical-align: middle;\n",
       "    }\n",
       "\n",
       "    .dataframe tbody tr th {\n",
       "        vertical-align: top;\n",
       "    }\n",
       "\n",
       "    .dataframe thead th {\n",
       "        text-align: right;\n",
       "    }\n",
       "</style>\n",
       "<table border=\"1\" class=\"dataframe\">\n",
       "  <thead>\n",
       "    <tr style=\"text-align: right;\">\n",
       "      <th></th>\n",
       "      <th>tweet</th>\n",
       "      <th>language</th>\n",
       "      <th>date</th>\n",
       "      <th>time</th>\n",
       "      <th>retweets_count</th>\n",
       "      <th>replies_count</th>\n",
       "      <th>likes_count</th>\n",
       "      <th>user_id</th>\n",
       "      <th>name</th>\n",
       "      <th>username</th>\n",
       "    </tr>\n",
       "    <tr>\n",
       "      <th>id</th>\n",
       "      <th></th>\n",
       "      <th></th>\n",
       "      <th></th>\n",
       "      <th></th>\n",
       "      <th></th>\n",
       "      <th></th>\n",
       "      <th></th>\n",
       "      <th></th>\n",
       "      <th></th>\n",
       "      <th></th>\n",
       "    </tr>\n",
       "  </thead>\n",
       "  <tbody>\n",
       "    <tr>\n",
       "      <th>1564951151124029441</th>\n",
       "      <td>¿Quieres impulsar tu perfil profesional en el ámbito digital?  🔥¡Descubre los #bootcamps de @ENCamaraSevilla y @TheBridge_Tech y despega en el sector tecnológico!  🚀La formación más innovadora en #DesarrolloWeb #FullStack, #DataScience y #Ciberseguridad:  https://t.co/dI7Go0yJsW  https://t.co/598NsYg0Ud</td>\n",
       "      <td>es</td>\n",
       "      <td>2022-08-31</td>\n",
       "      <td>14:20:04</td>\n",
       "      <td>11</td>\n",
       "      <td>0</td>\n",
       "      <td>13</td>\n",
       "      <td>106344840</td>\n",
       "      <td>Cámara de Comercio de Sevilla</td>\n",
       "      <td>camaradesevilla</td>\n",
       "    </tr>\n",
       "  </tbody>\n",
       "</table>\n",
       "</div>"
      ],
      "text/plain": [
       "                                                                                                                                                                                                                                                                                                                                tweet  \\\n",
       "id                                                                                                                                                                                                                                                                                                                                      \n",
       "1564951151124029441  ¿Quieres impulsar tu perfil profesional en el ámbito digital?  🔥¡Descubre los #bootcamps de @ENCamaraSevilla y @TheBridge_Tech y despega en el sector tecnológico!  🚀La formación más innovadora en #DesarrolloWeb #FullStack, #DataScience y #Ciberseguridad:  https://t.co/dI7Go0yJsW  https://t.co/598NsYg0Ud   \n",
       "\n",
       "                    language        date      time  retweets_count  \\\n",
       "id                                                                   \n",
       "1564951151124029441       es  2022-08-31  14:20:04              11   \n",
       "\n",
       "                     replies_count  likes_count    user_id  \\\n",
       "id                                                           \n",
       "1564951151124029441              0           13  106344840   \n",
       "\n",
       "                                              name         username  \n",
       "id                                                                   \n",
       "1564951151124029441  Cámara de Comercio de Sevilla  camaradesevilla  "
      ]
     },
     "execution_count": 4,
     "metadata": {},
     "output_type": "execute_result"
    }
   ],
   "source": [
    "# Con más Retweets\n",
    "df[df['retweets_count']==df['retweets_count'].max()]"
   ]
  },
  {
   "cell_type": "code",
   "execution_count": 5,
   "metadata": {},
   "outputs": [
    {
     "data": {
      "text/plain": [
       "162"
      ]
     },
     "execution_count": 5,
     "metadata": {},
     "output_type": "execute_result"
    }
   ],
   "source": [
    "# Número de Retweets totales\n",
    "df['retweets_count'].sum()"
   ]
  },
  {
   "cell_type": "markdown",
   "metadata": {},
   "source": [
    "-----"
   ]
  },
  {
   "cell_type": "code",
   "execution_count": 6,
   "metadata": {},
   "outputs": [
    {
     "data": {
      "text/html": [
       "<div>\n",
       "<style scoped>\n",
       "    .dataframe tbody tr th:only-of-type {\n",
       "        vertical-align: middle;\n",
       "    }\n",
       "\n",
       "    .dataframe tbody tr th {\n",
       "        vertical-align: top;\n",
       "    }\n",
       "\n",
       "    .dataframe thead th {\n",
       "        text-align: right;\n",
       "    }\n",
       "</style>\n",
       "<table border=\"1\" class=\"dataframe\">\n",
       "  <thead>\n",
       "    <tr style=\"text-align: right;\">\n",
       "      <th></th>\n",
       "      <th>tweet</th>\n",
       "      <th>language</th>\n",
       "      <th>date</th>\n",
       "      <th>time</th>\n",
       "      <th>retweets_count</th>\n",
       "      <th>replies_count</th>\n",
       "      <th>likes_count</th>\n",
       "      <th>user_id</th>\n",
       "      <th>name</th>\n",
       "      <th>username</th>\n",
       "    </tr>\n",
       "    <tr>\n",
       "      <th>id</th>\n",
       "      <th></th>\n",
       "      <th></th>\n",
       "      <th></th>\n",
       "      <th></th>\n",
       "      <th></th>\n",
       "      <th></th>\n",
       "      <th></th>\n",
       "      <th></th>\n",
       "      <th></th>\n",
       "      <th></th>\n",
       "    </tr>\n",
       "  </thead>\n",
       "  <tbody>\n",
       "    <tr>\n",
       "      <th>1542206287915585536</th>\n",
       "      <td>El sentido de la vida ya no es 42 -- Light Mental edición especial @TheBridge_Tech  https://t.co/z7hOVln8Bp</td>\n",
       "      <td>es</td>\n",
       "      <td>2022-06-29</td>\n",
       "      <td>20:00:06</td>\n",
       "      <td>3</td>\n",
       "      <td>2</td>\n",
       "      <td>22</td>\n",
       "      <td>1255794072280842240</td>\n",
       "      <td>Heavy Mental</td>\n",
       "      <td>heavymental_es</td>\n",
       "    </tr>\n",
       "    <tr>\n",
       "      <th>1541678686751133698</th>\n",
       "      <td>Gracias @HeavyMental_es por la tarde de ayer y a todos los asistentes ¡Éxito absoluto! 🎙👏</td>\n",
       "      <td>es</td>\n",
       "      <td>2022-06-28</td>\n",
       "      <td>09:03:36</td>\n",
       "      <td>4</td>\n",
       "      <td>0</td>\n",
       "      <td>22</td>\n",
       "      <td>1162694149956603904</td>\n",
       "      <td>The Bridge</td>\n",
       "      <td>thebridge_tech</td>\n",
       "    </tr>\n",
       "  </tbody>\n",
       "</table>\n",
       "</div>"
      ],
      "text/plain": [
       "                                                                                                                           tweet  \\\n",
       "id                                                                                                                                 \n",
       "1542206287915585536  El sentido de la vida ya no es 42 -- Light Mental edición especial @TheBridge_Tech  https://t.co/z7hOVln8Bp   \n",
       "1541678686751133698                    Gracias @HeavyMental_es por la tarde de ayer y a todos los asistentes ¡Éxito absoluto! 🎙👏   \n",
       "\n",
       "                    language        date      time  retweets_count  \\\n",
       "id                                                                   \n",
       "1542206287915585536       es  2022-06-29  20:00:06               3   \n",
       "1541678686751133698       es  2022-06-28  09:03:36               4   \n",
       "\n",
       "                     replies_count  likes_count              user_id  \\\n",
       "id                                                                     \n",
       "1542206287915585536              2           22  1255794072280842240   \n",
       "1541678686751133698              0           22  1162694149956603904   \n",
       "\n",
       "                             name        username  \n",
       "id                                                 \n",
       "1542206287915585536  Heavy Mental  heavymental_es  \n",
       "1541678686751133698    The Bridge  thebridge_tech  "
      ]
     },
     "execution_count": 6,
     "metadata": {},
     "output_type": "execute_result"
    }
   ],
   "source": [
    "# Con más Likes\n",
    "df[df['likes_count']==df['likes_count'].max()]"
   ]
  },
  {
   "cell_type": "code",
   "execution_count": 7,
   "metadata": {},
   "outputs": [
    {
     "data": {
      "text/plain": [
       "556"
      ]
     },
     "execution_count": 7,
     "metadata": {},
     "output_type": "execute_result"
    }
   ],
   "source": [
    "# Número de Likes totales\n",
    "df['likes_count'].sum()"
   ]
  },
  {
   "cell_type": "markdown",
   "metadata": {},
   "source": [
    "-----"
   ]
  },
  {
   "cell_type": "code",
   "execution_count": 8,
   "metadata": {},
   "outputs": [
    {
     "data": {
      "text/html": [
       "<div>\n",
       "<style scoped>\n",
       "    .dataframe tbody tr th:only-of-type {\n",
       "        vertical-align: middle;\n",
       "    }\n",
       "\n",
       "    .dataframe tbody tr th {\n",
       "        vertical-align: top;\n",
       "    }\n",
       "\n",
       "    .dataframe thead th {\n",
       "        text-align: right;\n",
       "    }\n",
       "</style>\n",
       "<table border=\"1\" class=\"dataframe\">\n",
       "  <thead>\n",
       "    <tr style=\"text-align: right;\">\n",
       "      <th></th>\n",
       "      <th>tweet</th>\n",
       "      <th>language</th>\n",
       "      <th>date</th>\n",
       "      <th>time</th>\n",
       "      <th>retweets_count</th>\n",
       "      <th>replies_count</th>\n",
       "      <th>likes_count</th>\n",
       "      <th>user_id</th>\n",
       "      <th>name</th>\n",
       "      <th>username</th>\n",
       "    </tr>\n",
       "    <tr>\n",
       "      <th>id</th>\n",
       "      <th></th>\n",
       "      <th></th>\n",
       "      <th></th>\n",
       "      <th></th>\n",
       "      <th></th>\n",
       "      <th></th>\n",
       "      <th></th>\n",
       "      <th></th>\n",
       "      <th></th>\n",
       "      <th></th>\n",
       "    </tr>\n",
       "  </thead>\n",
       "  <tbody>\n",
       "    <tr>\n",
       "      <th>1541046264539893760</th>\n",
       "      <td>🕣 TIC, TAC: MAÑANA os vemos a todos a las 7.30pm en nuestro evento en directo en MADRID en @TheBridge_Tech   🚨Para los que no vayáis, TRANQUILOS, seguramente el martes lo emitamos para todos vosotros :D</td>\n",
       "      <td>es</td>\n",
       "      <td>2022-06-26</td>\n",
       "      <td>15:10:35</td>\n",
       "      <td>6</td>\n",
       "      <td>6</td>\n",
       "      <td>17</td>\n",
       "      <td>1255794072280842240</td>\n",
       "      <td>Heavy Mental</td>\n",
       "      <td>heavymental_es</td>\n",
       "    </tr>\n",
       "    <tr>\n",
       "      <th>1536310176801857538</th>\n",
       "      <td>¡Últimas1⃣0⃣entradas! El lunes 27 de junio acogeremos la grabación de \"El sentido de la vida ya no es 42\" un episodio del podcast de @HeavyMental_es, donde presentarán \"El pequeño libro de la filosofía estoica\" de @Alienta Si quieres asistir como público👉 https://t.co/Vp0zHYIRua</td>\n",
       "      <td>es</td>\n",
       "      <td>2022-06-13</td>\n",
       "      <td>13:31:04</td>\n",
       "      <td>2</td>\n",
       "      <td>6</td>\n",
       "      <td>4</td>\n",
       "      <td>1162694149956603904</td>\n",
       "      <td>The Bridge</td>\n",
       "      <td>thebridge_tech</td>\n",
       "    </tr>\n",
       "  </tbody>\n",
       "</table>\n",
       "</div>"
      ],
      "text/plain": [
       "                                                                                                                                                                                                                                                                                                       tweet  \\\n",
       "id                                                                                                                                                                                                                                                                                                             \n",
       "1541046264539893760                                                                               🕣 TIC, TAC: MAÑANA os vemos a todos a las 7.30pm en nuestro evento en directo en MADRID en @TheBridge_Tech   🚨Para los que no vayáis, TRANQUILOS, seguramente el martes lo emitamos para todos vosotros :D   \n",
       "1536310176801857538  ¡Últimas1⃣0⃣entradas! El lunes 27 de junio acogeremos la grabación de \"El sentido de la vida ya no es 42\" un episodio del podcast de @HeavyMental_es, donde presentarán \"El pequeño libro de la filosofía estoica\" de @Alienta Si quieres asistir como público👉 https://t.co/Vp0zHYIRua   \n",
       "\n",
       "                    language        date      time  retweets_count  \\\n",
       "id                                                                   \n",
       "1541046264539893760       es  2022-06-26  15:10:35               6   \n",
       "1536310176801857538       es  2022-06-13  13:31:04               2   \n",
       "\n",
       "                     replies_count  likes_count              user_id  \\\n",
       "id                                                                     \n",
       "1541046264539893760              6           17  1255794072280842240   \n",
       "1536310176801857538              6            4  1162694149956603904   \n",
       "\n",
       "                             name        username  \n",
       "id                                                 \n",
       "1541046264539893760  Heavy Mental  heavymental_es  \n",
       "1536310176801857538    The Bridge  thebridge_tech  "
      ]
     },
     "execution_count": 8,
     "metadata": {},
     "output_type": "execute_result"
    }
   ],
   "source": [
    "# Con más Respuestas\n",
    "df[df['replies_count']==df['replies_count'].max()].head()"
   ]
  },
  {
   "cell_type": "code",
   "execution_count": 9,
   "metadata": {},
   "outputs": [
    {
     "data": {
      "text/plain": [
       "68"
      ]
     },
     "execution_count": 9,
     "metadata": {},
     "output_type": "execute_result"
    }
   ],
   "source": [
    "# Número de Respuestas totales\n",
    "df['replies_count'].sum()"
   ]
  },
  {
   "cell_type": "markdown",
   "metadata": {},
   "source": [
    "---"
   ]
  },
  {
   "cell_type": "code",
   "execution_count": 10,
   "metadata": {},
   "outputs": [
    {
     "data": {
      "text/html": [
       "<div>\n",
       "<style scoped>\n",
       "    .dataframe tbody tr th:only-of-type {\n",
       "        vertical-align: middle;\n",
       "    }\n",
       "\n",
       "    .dataframe tbody tr th {\n",
       "        vertical-align: top;\n",
       "    }\n",
       "\n",
       "    .dataframe thead th {\n",
       "        text-align: right;\n",
       "    }\n",
       "</style>\n",
       "<table border=\"1\" class=\"dataframe\">\n",
       "  <thead>\n",
       "    <tr style=\"text-align: right;\">\n",
       "      <th></th>\n",
       "      <th>tweet</th>\n",
       "      <th>language</th>\n",
       "      <th>date</th>\n",
       "      <th>time</th>\n",
       "      <th>retweets_count</th>\n",
       "      <th>replies_count</th>\n",
       "      <th>likes_count</th>\n",
       "      <th>user_id</th>\n",
       "      <th>name</th>\n",
       "      <th>username</th>\n",
       "      <th>interaction</th>\n",
       "    </tr>\n",
       "    <tr>\n",
       "      <th>id</th>\n",
       "      <th></th>\n",
       "      <th></th>\n",
       "      <th></th>\n",
       "      <th></th>\n",
       "      <th></th>\n",
       "      <th></th>\n",
       "      <th></th>\n",
       "      <th></th>\n",
       "      <th></th>\n",
       "      <th></th>\n",
       "      <th></th>\n",
       "    </tr>\n",
       "  </thead>\n",
       "  <tbody>\n",
       "    <tr>\n",
       "      <th>1541046264539893760</th>\n",
       "      <td>🕣 TIC, TAC: MAÑANA os vemos a todos a las 7.30pm en nuestro evento en directo en MADRID en @TheBridge_Tech   🚨Para los que no vayáis, TRANQUILOS, seguramente el martes lo emitamos para todos vosotros :D</td>\n",
       "      <td>es</td>\n",
       "      <td>2022-06-26</td>\n",
       "      <td>15:10:35</td>\n",
       "      <td>6</td>\n",
       "      <td>6</td>\n",
       "      <td>17</td>\n",
       "      <td>1255794072280842240</td>\n",
       "      <td>Heavy Mental</td>\n",
       "      <td>heavymental_es</td>\n",
       "      <td>29</td>\n",
       "    </tr>\n",
       "  </tbody>\n",
       "</table>\n",
       "</div>"
      ],
      "text/plain": [
       "                                                                                                                                                                                                                          tweet  \\\n",
       "id                                                                                                                                                                                                                                \n",
       "1541046264539893760  🕣 TIC, TAC: MAÑANA os vemos a todos a las 7.30pm en nuestro evento en directo en MADRID en @TheBridge_Tech   🚨Para los que no vayáis, TRANQUILOS, seguramente el martes lo emitamos para todos vosotros :D   \n",
       "\n",
       "                    language        date      time  retweets_count  \\\n",
       "id                                                                   \n",
       "1541046264539893760       es  2022-06-26  15:10:35               6   \n",
       "\n",
       "                     replies_count  likes_count              user_id  \\\n",
       "id                                                                     \n",
       "1541046264539893760              6           17  1255794072280842240   \n",
       "\n",
       "                             name        username  interaction  \n",
       "id                                                              \n",
       "1541046264539893760  Heavy Mental  heavymental_es           29  "
      ]
     },
     "execution_count": 10,
     "metadata": {},
     "output_type": "execute_result"
    }
   ],
   "source": [
    "# Tweet con más interacciones en total\n",
    "df['interaction']=df['retweets_count']+df['likes_count']+df['replies_count']\n",
    "df[df['interaction']==df['interaction'].max()].head()\n"
   ]
  },
  {
   "cell_type": "code",
   "execution_count": 11,
   "metadata": {},
   "outputs": [
    {
     "data": {
      "text/plain": [
       "786"
      ]
     },
     "execution_count": 11,
     "metadata": {},
     "output_type": "execute_result"
    }
   ],
   "source": [
    "# # Número de Interacciones totales\n",
    "df['interaction'].sum()"
   ]
  },
  {
   "cell_type": "markdown",
   "metadata": {},
   "source": [
    "-----\n",
    "-----\n",
    "-----\n",
    "<p>b. ¿Cuál es el usuario que más menciona a la escuela?</p>"
   ]
  },
  {
   "cell_type": "code",
   "execution_count": 12,
   "metadata": {},
   "outputs": [
    {
     "data": {
      "text/html": [
       "<div>\n",
       "<style scoped>\n",
       "    .dataframe tbody tr th:only-of-type {\n",
       "        vertical-align: middle;\n",
       "    }\n",
       "\n",
       "    .dataframe tbody tr th {\n",
       "        vertical-align: top;\n",
       "    }\n",
       "\n",
       "    .dataframe thead th {\n",
       "        text-align: right;\n",
       "    }\n",
       "</style>\n",
       "<table border=\"1\" class=\"dataframe\">\n",
       "  <thead>\n",
       "    <tr style=\"text-align: right;\">\n",
       "      <th></th>\n",
       "      <th>username</th>\n",
       "    </tr>\n",
       "  </thead>\n",
       "  <tbody>\n",
       "    <tr>\n",
       "      <th>thebridge_tech</th>\n",
       "      <td>32</td>\n",
       "    </tr>\n",
       "    <tr>\n",
       "      <th>heavymental_es</th>\n",
       "      <td>10</td>\n",
       "    </tr>\n",
       "    <tr>\n",
       "      <th>mulder01198676</th>\n",
       "      <td>8</td>\n",
       "    </tr>\n",
       "    <tr>\n",
       "      <th>designetworking</th>\n",
       "      <td>6</td>\n",
       "    </tr>\n",
       "    <tr>\n",
       "      <th>joobid</th>\n",
       "      <td>6</td>\n",
       "    </tr>\n",
       "    <tr>\n",
       "      <th>...</th>\n",
       "      <td>...</td>\n",
       "    </tr>\n",
       "    <tr>\n",
       "      <th>camaradesevilla</th>\n",
       "      <td>1</td>\n",
       "    </tr>\n",
       "    <tr>\n",
       "      <th>antonio_muniz_c</th>\n",
       "      <td>1</td>\n",
       "    </tr>\n",
       "    <tr>\n",
       "      <th>mtortosal</th>\n",
       "      <td>1</td>\n",
       "    </tr>\n",
       "    <tr>\n",
       "      <th>equiposytalento</th>\n",
       "      <td>1</td>\n",
       "    </tr>\n",
       "    <tr>\n",
       "      <th>pcontrer</th>\n",
       "      <td>1</td>\n",
       "    </tr>\n",
       "  </tbody>\n",
       "</table>\n",
       "<p>73 rows × 1 columns</p>\n",
       "</div>"
      ],
      "text/plain": [
       "                 username\n",
       "thebridge_tech         32\n",
       "heavymental_es         10\n",
       "mulder01198676          8\n",
       "designetworking         6\n",
       "joobid                  6\n",
       "...                   ...\n",
       "camaradesevilla         1\n",
       "antonio_muniz_c         1\n",
       "mtortosal               1\n",
       "equiposytalento         1\n",
       "pcontrer                1\n",
       "\n",
       "[73 rows x 1 columns]"
      ]
     },
     "execution_count": 12,
     "metadata": {},
     "output_type": "execute_result"
    }
   ],
   "source": [
    "df_most=pd.DataFrame(df['username'].value_counts())\n",
    "df_most"
   ]
  },
  {
   "cell_type": "markdown",
   "metadata": {},
   "source": [
    "-----\n",
    "-----\n",
    "-----\n",
    "<p>c. ¿En qué mes se concentra el mayor número de tweets?</p>"
   ]
  },
  {
   "cell_type": "code",
   "execution_count": 13,
   "metadata": {},
   "outputs": [],
   "source": [
    "df['date_datetime'] = pd.to_datetime(df['date'])\n",
    "df['month'] = df['date_datetime'].dt.month"
   ]
  },
  {
   "cell_type": "code",
   "execution_count": 14,
   "metadata": {},
   "outputs": [
    {
     "data": {
      "text/html": [
       "<div>\n",
       "<style scoped>\n",
       "    .dataframe tbody tr th:only-of-type {\n",
       "        vertical-align: middle;\n",
       "    }\n",
       "\n",
       "    .dataframe tbody tr th {\n",
       "        vertical-align: top;\n",
       "    }\n",
       "\n",
       "    .dataframe thead th {\n",
       "        text-align: right;\n",
       "    }\n",
       "</style>\n",
       "<table border=\"1\" class=\"dataframe\">\n",
       "  <thead>\n",
       "    <tr style=\"text-align: right;\">\n",
       "      <th></th>\n",
       "      <th>month</th>\n",
       "    </tr>\n",
       "  </thead>\n",
       "  <tbody>\n",
       "    <tr>\n",
       "      <th>6</th>\n",
       "      <td>85</td>\n",
       "    </tr>\n",
       "    <tr>\n",
       "      <th>9</th>\n",
       "      <td>30</td>\n",
       "    </tr>\n",
       "    <tr>\n",
       "      <th>7</th>\n",
       "      <td>30</td>\n",
       "    </tr>\n",
       "    <tr>\n",
       "      <th>8</th>\n",
       "      <td>15</td>\n",
       "    </tr>\n",
       "    <tr>\n",
       "      <th>10</th>\n",
       "      <td>6</td>\n",
       "    </tr>\n",
       "  </tbody>\n",
       "</table>\n",
       "</div>"
      ],
      "text/plain": [
       "    month\n",
       "6      85\n",
       "9      30\n",
       "7      30\n",
       "8      15\n",
       "10      6"
      ]
     },
     "execution_count": 14,
     "metadata": {},
     "output_type": "execute_result"
    }
   ],
   "source": [
    "df_month=pd.DataFrame(df['month'].value_counts())\n",
    "df_month"
   ]
  },
  {
   "cell_type": "code",
   "execution_count": 31,
   "metadata": {},
   "outputs": [
    {
     "data": {
      "text/plain": [
       "<AxesSubplot:>"
      ]
     },
     "execution_count": 31,
     "metadata": {},
     "output_type": "execute_result"
    },
    {
     "data": {
      "image/png": "[encoded data removed]",
      "text/plain": [
       "<Figure size 432x288 with 1 Axes>"
      ]
     },
     "metadata": {
      "needs_background": "light"
     },
     "output_type": "display_data"
    }
   ],
   "source": [
    "df_month.plot(kind='bar')"
   ]
  },
  {
   "cell_type": "code",
   "execution_count": 15,
   "metadata": {},
   "outputs": [
    {
     "name": "stdout",
     "output_type": "stream",
     "text": [
      "6 = Junio\n",
      "7 = Julio\n",
      "8 = Agosto\n",
      "9 = Septiembre\n",
      "10 = Octubre\n"
     ]
    }
   ],
   "source": [
    "print('6 = Junio')\n",
    "print('7 = Julio')\n",
    "print('8 = Agosto')\n",
    "print('9 = Septiembre')\n",
    "print('10 = Octubre')"
   ]
  },
  {
   "cell_type": "markdown",
   "metadata": {},
   "source": [
    "----\n",
    "----\n",
    "----\n",
    "<p>d. ¿Qué palabras son más frecuentes?</p>\n"
   ]
  },
  {
   "cell_type": "code",
   "execution_count": 16,
   "metadata": {},
   "outputs": [
    {
     "data": {
      "text/html": [
       "<div>\n",
       "<style scoped>\n",
       "    .dataframe tbody tr th:only-of-type {\n",
       "        vertical-align: middle;\n",
       "    }\n",
       "\n",
       "    .dataframe tbody tr th {\n",
       "        vertical-align: top;\n",
       "    }\n",
       "\n",
       "    .dataframe thead th {\n",
       "        text-align: right;\n",
       "    }\n",
       "</style>\n",
       "<table border=\"1\" class=\"dataframe\">\n",
       "  <thead>\n",
       "    <tr style=\"text-align: right;\">\n",
       "      <th></th>\n",
       "      <th>tweet</th>\n",
       "      <th>language</th>\n",
       "      <th>date</th>\n",
       "      <th>time</th>\n",
       "      <th>retweets_count</th>\n",
       "      <th>replies_count</th>\n",
       "      <th>likes_count</th>\n",
       "      <th>user_id</th>\n",
       "      <th>name</th>\n",
       "      <th>username</th>\n",
       "      <th>interaction</th>\n",
       "      <th>date_datetime</th>\n",
       "      <th>month</th>\n",
       "    </tr>\n",
       "    <tr>\n",
       "      <th>id</th>\n",
       "      <th></th>\n",
       "      <th></th>\n",
       "      <th></th>\n",
       "      <th></th>\n",
       "      <th></th>\n",
       "      <th></th>\n",
       "      <th></th>\n",
       "      <th></th>\n",
       "      <th></th>\n",
       "      <th></th>\n",
       "      <th></th>\n",
       "      <th></th>\n",
       "      <th></th>\n",
       "    </tr>\n",
       "  </thead>\n",
       "  <tbody>\n",
       "    <tr>\n",
       "      <th>1577654769098842112</th>\n",
       "      <td>Ya están aquí nuestros primeros mini emprendedores 🤩 pasándoselo en grande mientras empiezan el proceso de ideación de sus proyectos-   Con el programa de @GenyusSchool descubren su YO emprendedor mientras se divierten👏  ¡Aún estás a tiempo!👉 https://t.co/uaEMCO1jGy  https://t.co/80gibJEUcI</td>\n",
       "      <td>es</td>\n",
       "      <td>2022-10-05</td>\n",
       "      <td>15:39:43</td>\n",
       "      <td>2</td>\n",
       "      <td>0</td>\n",
       "      <td>3</td>\n",
       "      <td>1162694149956603904</td>\n",
       "      <td>The Bridge</td>\n",
       "      <td>thebridge_tech</td>\n",
       "      <td>5</td>\n",
       "      <td>2022-10-05</td>\n",
       "      <td>10</td>\n",
       "    </tr>\n",
       "  </tbody>\n",
       "</table>\n",
       "</div>"
      ],
      "text/plain": [
       "                                                                                                                                                                                                                                                                                                                   tweet  \\\n",
       "id                                                                                                                                                                                                                                                                                                                         \n",
       "1577654769098842112  Ya están aquí nuestros primeros mini emprendedores 🤩 pasándoselo en grande mientras empiezan el proceso de ideación de sus proyectos-   Con el programa de @GenyusSchool descubren su YO emprendedor mientras se divierten👏  ¡Aún estás a tiempo!👉 https://t.co/uaEMCO1jGy  https://t.co/80gibJEUcI   \n",
       "\n",
       "                    language        date      time  retweets_count  \\\n",
       "id                                                                   \n",
       "1577654769098842112       es  2022-10-05  15:39:43               2   \n",
       "\n",
       "                     replies_count  likes_count              user_id  \\\n",
       "id                                                                     \n",
       "1577654769098842112              0            3  1162694149956603904   \n",
       "\n",
       "                           name        username  interaction date_datetime  \\\n",
       "id                                                                           \n",
       "1577654769098842112  The Bridge  thebridge_tech            5    2022-10-05   \n",
       "\n",
       "                     month  \n",
       "id                          \n",
       "1577654769098842112     10  "
      ]
     },
     "execution_count": 16,
     "metadata": {},
     "output_type": "execute_result"
    }
   ],
   "source": [
    "df.head(1)"
   ]
  },
  {
   "cell_type": "code",
   "execution_count": 17,
   "metadata": {},
   "outputs": [
    {
     "data": {
      "text/html": [
       "<div>\n",
       "<style scoped>\n",
       "    .dataframe tbody tr th:only-of-type {\n",
       "        vertical-align: middle;\n",
       "    }\n",
       "\n",
       "    .dataframe tbody tr th {\n",
       "        vertical-align: top;\n",
       "    }\n",
       "\n",
       "    .dataframe thead th {\n",
       "        text-align: right;\n",
       "    }\n",
       "</style>\n",
       "<table border=\"1\" class=\"dataframe\">\n",
       "  <thead>\n",
       "    <tr style=\"text-align: right;\">\n",
       "      <th></th>\n",
       "      <th>tweet</th>\n",
       "      <th>language</th>\n",
       "      <th>date</th>\n",
       "      <th>time</th>\n",
       "      <th>retweets_count</th>\n",
       "      <th>replies_count</th>\n",
       "      <th>likes_count</th>\n",
       "      <th>user_id</th>\n",
       "      <th>name</th>\n",
       "      <th>username</th>\n",
       "      <th>interaction</th>\n",
       "      <th>date_datetime</th>\n",
       "      <th>month</th>\n",
       "    </tr>\n",
       "    <tr>\n",
       "      <th>id</th>\n",
       "      <th></th>\n",
       "      <th></th>\n",
       "      <th></th>\n",
       "      <th></th>\n",
       "      <th></th>\n",
       "      <th></th>\n",
       "      <th></th>\n",
       "      <th></th>\n",
       "      <th></th>\n",
       "      <th></th>\n",
       "      <th></th>\n",
       "      <th></th>\n",
       "      <th></th>\n",
       "    </tr>\n",
       "  </thead>\n",
       "  <tbody>\n",
       "    <tr>\n",
       "      <th>1577654769098842112</th>\n",
       "      <td>Ya aquí primeros mini emprendedores 🤩 pasándoselo grande mientras empiezan proceso ideación proyectos- Con programa @GenyusSchool descubren YO emprendedor mientras divierten👏 ¡Aún tiempo!👉 https://t.co/uaEMCO1jGy https://t.co/80gibJEUcI</td>\n",
       "      <td>es</td>\n",
       "      <td>2022-10-05</td>\n",
       "      <td>15:39:43</td>\n",
       "      <td>2</td>\n",
       "      <td>0</td>\n",
       "      <td>3</td>\n",
       "      <td>1162694149956603904</td>\n",
       "      <td>The Bridge</td>\n",
       "      <td>thebridge_tech</td>\n",
       "      <td>5</td>\n",
       "      <td>2022-10-05</td>\n",
       "      <td>10</td>\n",
       "    </tr>\n",
       "  </tbody>\n",
       "</table>\n",
       "</div>"
      ],
      "text/plain": [
       "                                                                                                                                                                                                                                                            tweet  \\\n",
       "id                                                                                                                                                                                                                                                                  \n",
       "1577654769098842112  Ya aquí primeros mini emprendedores 🤩 pasándoselo grande mientras empiezan proceso ideación proyectos- Con programa @GenyusSchool descubren YO emprendedor mientras divierten👏 ¡Aún tiempo!👉 https://t.co/uaEMCO1jGy https://t.co/80gibJEUcI   \n",
       "\n",
       "                    language        date      time  retweets_count  \\\n",
       "id                                                                   \n",
       "1577654769098842112       es  2022-10-05  15:39:43               2   \n",
       "\n",
       "                     replies_count  likes_count              user_id  \\\n",
       "id                                                                     \n",
       "1577654769098842112              0            3  1162694149956603904   \n",
       "\n",
       "                           name        username  interaction date_datetime  \\\n",
       "id                                                                           \n",
       "1577654769098842112  The Bridge  thebridge_tech            5    2022-10-05   \n",
       "\n",
       "                     month  \n",
       "id                          \n",
       "1577654769098842112     10  "
      ]
     },
     "execution_count": 17,
     "metadata": {},
     "output_type": "execute_result"
    }
   ],
   "source": [
    "df_words = df\n",
    "# Aplicamos Stopwords\n",
    "from nltk.corpus import stopwords \n",
    "\n",
    "spanish_stopwords = stopwords.words('spanish')\n",
    "\n",
    "def remove_stopwords(df):\n",
    "    return \" \".join([word for word in df.split() if word not in spanish_stopwords])\n",
    "\n",
    "df_words['tweet'] = df_words['tweet'].apply(remove_stopwords)\n",
    "df_words.head(1)"
   ]
  },
  {
   "cell_type": "code",
   "execution_count": 18,
   "metadata": {},
   "outputs": [
    {
     "data": {
      "text/plain": [
       "[('@TheBridge_Tech', 122),\n",
       " ('@HeavyMental_es', 61),\n",
       " ('@GuillermoDeHaro', 45),\n",
       " ('@Recuenco', 44),\n",
       " ('@_miki', 29),\n",
       " ('@DavidAlayon', 26),\n",
       " ('@Mulder01198676', 12),\n",
       " ('formación', 11),\n",
       " ('talento', 10),\n",
       " ('Si', 10),\n",
       " ('@Alienta', 10),\n",
       " ('#bootcamp', 9),\n",
       " ('El', 9),\n",
       " ('gracias', 9),\n",
       " ('convenio', 9),\n",
       " ('Gracias', 9),\n",
       " ('@uriondo', 9),\n",
       " ('primera', 8),\n",
       " ('si', 8),\n",
       " ('La', 8),\n",
       " ('profesionales', 7),\n",
       " ('vida', 7),\n",
       " ('nuevo', 7),\n",
       " ('@JotDownSpain', 7),\n",
       " ('@moquintana', 7),\n",
       " ('hacer', 6),\n",
       " ('@TheBridge_Tech,', 6),\n",
       " ('Hoy', 6),\n",
       " ('acuerdo', 6),\n",
       " ('ser', 6),\n",
       " ('sector', 6),\n",
       " ('#ciberseguridad', 6),\n",
       " ('Que', 6),\n",
       " ('No', 6),\n",
       " ('mientras', 5),\n",
       " ('programa', 5),\n",
       " ('Un', 5),\n",
       " ('colaboración', 5),\n",
       " ('quieres', 5),\n",
       " ('digital', 5),\n",
       " ('Y', 5),\n",
       " ('evento', 5),\n",
       " ('empresas', 5),\n",
       " ('demanda', 5),\n",
       " ('info', 5),\n",
       " ('Más', 5),\n",
       " ('@Fujitsu_ES', 5),\n",
       " ('firman', 5),\n",
       " ('aceleradora', 5),\n",
       " ('millones', 5)]"
      ]
     },
     "execution_count": 18,
     "metadata": {},
     "output_type": "execute_result"
    }
   ],
   "source": [
    "from collections import Counter\n",
    "Counter(\" \".join(df_words[\"tweet\"]).split()).most_common(50)"
   ]
  },
  {
   "cell_type": "markdown",
   "metadata": {},
   "source": [
    "----\n",
    "----\n",
    "----\n",
    "<p>e. ¿Qué tipo de correlación matemática encuentras entre las métricas públicas?</p>"
   ]
  },
  {
   "cell_type": "code",
   "execution_count": 19,
   "metadata": {},
   "outputs": [
    {
     "data": {
      "text/html": [
       "<div>\n",
       "<style scoped>\n",
       "    .dataframe tbody tr th:only-of-type {\n",
       "        vertical-align: middle;\n",
       "    }\n",
       "\n",
       "    .dataframe tbody tr th {\n",
       "        vertical-align: top;\n",
       "    }\n",
       "\n",
       "    .dataframe thead th {\n",
       "        text-align: right;\n",
       "    }\n",
       "</style>\n",
       "<table border=\"1\" class=\"dataframe\">\n",
       "  <thead>\n",
       "    <tr style=\"text-align: right;\">\n",
       "      <th></th>\n",
       "      <th>retweets_count</th>\n",
       "      <th>replies_count</th>\n",
       "      <th>likes_count</th>\n",
       "    </tr>\n",
       "    <tr>\n",
       "      <th>id</th>\n",
       "      <th></th>\n",
       "      <th></th>\n",
       "      <th></th>\n",
       "    </tr>\n",
       "  </thead>\n",
       "  <tbody>\n",
       "    <tr>\n",
       "      <th>1577654769098842112</th>\n",
       "      <td>2</td>\n",
       "      <td>0</td>\n",
       "      <td>3</td>\n",
       "    </tr>\n",
       "  </tbody>\n",
       "</table>\n",
       "</div>"
      ],
      "text/plain": [
       "                     retweets_count  replies_count  likes_count\n",
       "id                                                             \n",
       "1577654769098842112               2              0            3"
      ]
     },
     "execution_count": 19,
     "metadata": {},
     "output_type": "execute_result"
    }
   ],
   "source": [
    "df[['retweets_count', 'replies_count', 'likes_count']].head(1)"
   ]
  },
  {
   "cell_type": "code",
   "execution_count": 20,
   "metadata": {},
   "outputs": [
    {
     "data": {
      "text/html": [
       "<div>\n",
       "<style scoped>\n",
       "    .dataframe tbody tr th:only-of-type {\n",
       "        vertical-align: middle;\n",
       "    }\n",
       "\n",
       "    .dataframe tbody tr th {\n",
       "        vertical-align: top;\n",
       "    }\n",
       "\n",
       "    .dataframe thead th {\n",
       "        text-align: right;\n",
       "    }\n",
       "</style>\n",
       "<table border=\"1\" class=\"dataframe\">\n",
       "  <thead>\n",
       "    <tr style=\"text-align: right;\">\n",
       "      <th></th>\n",
       "      <th>retweets_count</th>\n",
       "      <th>replies_count</th>\n",
       "      <th>likes_count</th>\n",
       "    </tr>\n",
       "  </thead>\n",
       "  <tbody>\n",
       "    <tr>\n",
       "      <th>retweets_count</th>\n",
       "      <td>1.000000</td>\n",
       "      <td>0.135162</td>\n",
       "      <td>0.679553</td>\n",
       "    </tr>\n",
       "    <tr>\n",
       "      <th>replies_count</th>\n",
       "      <td>0.135162</td>\n",
       "      <td>1.000000</td>\n",
       "      <td>0.314092</td>\n",
       "    </tr>\n",
       "    <tr>\n",
       "      <th>likes_count</th>\n",
       "      <td>0.679553</td>\n",
       "      <td>0.314092</td>\n",
       "      <td>1.000000</td>\n",
       "    </tr>\n",
       "  </tbody>\n",
       "</table>\n",
       "</div>"
      ],
      "text/plain": [
       "                retweets_count  replies_count  likes_count\n",
       "retweets_count        1.000000       0.135162     0.679553\n",
       "replies_count         0.135162       1.000000     0.314092\n",
       "likes_count           0.679553       0.314092     1.000000"
      ]
     },
     "execution_count": 20,
     "metadata": {},
     "output_type": "execute_result"
    }
   ],
   "source": [
    "df[['retweets_count', 'replies_count', 'likes_count']].corr()"
   ]
  },
  {
   "cell_type": "code",
   "execution_count": 21,
   "metadata": {},
   "outputs": [
    {
     "data": {
      "image/png": "[encoded data removed]",
      "text/plain": [
       "<Figure size 720x576 with 2 Axes>"
      ]
     },
     "metadata": {
      "needs_background": "light"
     },
     "output_type": "display_data"
    }
   ],
   "source": [
    "plt.figure(figsize=(10,8))\n",
    "sns.heatmap(df[['retweets_count', 'replies_count', 'likes_count']].corr(),cmap=sns.diverging_palette(145, 280, s=85, l=25, n=10), annot=True);"
   ]
  },
  {
   "cell_type": "markdown",
   "metadata": {},
   "source": [
    "---\n",
    "---\n",
    "---\n",
    "<p>f. ¿Has sacado alguna conclusión extra en tu análisis?</p>"
   ]
  },
  {
   "cell_type": "code",
   "execution_count": null,
   "metadata": {},
   "outputs": [],
   "source": [
    "# {0: 119, 1: 47}\n",
    "# Vemos que la mayoría de los tweets son positos: 119 de 166 (Sacado del notbook Modelo_1_0)"
   ]
  },
  {
   "cell_type": "code",
   "execution_count": 22,
   "metadata": {},
   "outputs": [],
   "source": [
    "# Vemos que la mayoría de interacciones y menciones son entre parte del staff de la propia escuela: thebridge_tech y heavymental_es\n",
    "# Esto es algo malo, ya que el objetivo es que alumnos y gente de fuera hable de la escuela"
   ]
  },
  {
   "cell_type": "code",
   "execution_count": 23,
   "metadata": {},
   "outputs": [],
   "source": [
    "# Más de la mitad de lo tweets son de Junio. 85 de 166"
   ]
  },
  {
   "cell_type": "code",
   "execution_count": 24,
   "metadata": {},
   "outputs": [],
   "source": [
    "# 166 de los 179 son en Español. Siendo el segundo el Inglés. (Sacado del notebook Crear tabla SQL 1_0(TWINT))\n",
    "# Esto no es un problema ya que actualmente la escuela solo ofrece los cursos en Español."
   ]
  },
  {
   "cell_type": "code",
   "execution_count": 25,
   "metadata": {},
   "outputs": [],
   "source": [
    "# Los retweets y likes están muy relacionados"
   ]
  },
  {
   "cell_type": "code",
   "execution_count": 26,
   "metadata": {},
   "outputs": [],
   "source": [
    "# Uno de los usuarios más mencionados es GuillermoDeHaro, pero vemos que este usuario no ha interactuado ni una sola vez \n",
    "# mencionando a thebridge_tech"
   ]
  },
  {
   "cell_type": "code",
   "execution_count": null,
   "metadata": {},
   "outputs": [],
   "source": []
  }
 ],
 "metadata": {
  "kernelspec": {
   "display_name": "Python 3.7.4 64-bit",
   "language": "python",
   "name": "python3"
  },
  "language_info": {
   "codemirror_mode": {
    "name": "ipython",
    "version": 3
   },
   "file_extension": ".py",
   "mimetype": "text/x-python",
   "name": "python",
   "nbconvert_exporter": "python",
   "pygments_lexer": "ipython3",
   "version": "3.7.4"
  },
  "orig_nbformat": 4,
  "vscode": {
   "interpreter": {
    "hash": "703e8db34bb7cdd00b82a89d91d2e2137d3ce887601c5554b79c7f8766c7193f"
   }
  }
 },
 "nbformat": 4,
 "nbformat_minor": 2
}
